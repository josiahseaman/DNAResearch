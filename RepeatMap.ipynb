{
 "metadata": {
  "name": "",
  "signature": "sha256:58dead530edc1be5a077a328881b80cbd8e24522b2733f6055e81e8fb096a23e"
 },
 "nbformat": 3,
 "nbformat_minor": 0,
 "worksheets": [
  {
   "cells": [
    {
     "cell_type": "code",
     "collapsed": false,
     "input": [
      "%matplotlib inline\n",
      "from pylab import *\n",
      "import matplotlib.pyplot as plt"
     ],
     "language": "python",
     "metadata": {},
     "outputs": [],
     "prompt_number": 1
    },
    {
     "cell_type": "code",
     "collapsed": false,
     "input": [
      "alpha = 0.7\n",
      "phi_ext = 2 * pi * 0.5\n",
      "\n",
      "def flux_qubit_potential(phi_m, phi_p):\n",
      "    return 2 + alpha - 2 * cos(phi_p)*cos(phi_m) - alpha * cos(phi_ext - 2*phi_p)"
     ],
     "language": "python",
     "metadata": {},
     "outputs": [],
     "prompt_number": 2
    },
    {
     "cell_type": "code",
     "collapsed": false,
     "input": [
      "phi_m = linspace(0, 2*pi, 100)\n",
      "phi_p = linspace(0, 2*pi, 100)\n",
      "X,Y = meshgrid(phi_p, phi_m)\n",
      "Z = flux_qubit_potential(X, Y)"
     ],
     "language": "python",
     "metadata": {},
     "outputs": [],
     "prompt_number": 3
    },
    {
     "cell_type": "code",
     "collapsed": false,
     "input": [
      "fig, ax = plt.subplots()\n",
      "\n",
      "p = ax.pcolor(X/(2*pi), Y/(2*pi), Z, cmap=cm.RdBu, vmin=abs(Z).min(), vmax=abs(Z).max())\n",
      "cb = fig.colorbar(p, ax=ax)"
     ],
     "language": "python",
     "metadata": {},
     "outputs": [
      {
       "metadata": {},
       "output_type": "display_data",
       "png": "[encoded data removed]",
       "text": [
        "<matplotlib.figure.Figure at 0xa527d68>"
       ]
      }
     ],
     "prompt_number": 4
    },
    {
     "cell_type": "code",
     "collapsed": false,
     "input": [
      "Z?"
     ],
     "language": "python",
     "metadata": {},
     "outputs": [],
     "prompt_number": 5
    },
    {
     "cell_type": "heading",
     "level": 2,
     "metadata": {},
     "source": [
      "Repeat Map"
     ]
    },
    {
     "cell_type": "code",
     "collapsed": false,
     "input": [
      "alphabet = ['A', 'C', 'G', 'T']\n",
      "monomer = 'ACCGCTAGAAAT'\n",
      "monomer * 10"
     ],
     "language": "python",
     "metadata": {},
     "outputs": [
      {
       "metadata": {},
       "output_type": "pyout",
       "prompt_number": 6,
       "text": [
        "'ACCGCTAGAAATACCGCTAGAAATACCGCTAGAAATACCGCTAGAAATACCGCTAGAAATACCGCTAGAAATACCGCTAGAAATACCGCTAGAAATACCGCTAGAAATACCGCTAGAAAT'"
       ]
      }
     ],
     "prompt_number": 6
    },
    {
     "cell_type": "code",
     "collapsed": false,
     "input": [
      "monomer = ''.join([choice(alphabet) for index in range(frequency)])\n",
      "monomer"
     ],
     "language": "python",
     "metadata": {},
     "outputs": [
      {
       "ename": "NameError",
       "evalue": "name 'frequency' is not defined",
       "output_type": "pyerr",
       "traceback": [
        "\u001b[1;31m---------------------------------------------------------------------------\u001b[0m\n\u001b[1;31mNameError\u001b[0m                                 Traceback (most recent call last)",
        "\u001b[1;32m<ipython-input-7-a021665ed2c1>\u001b[0m in \u001b[0;36m<module>\u001b[1;34m()\u001b[0m\n\u001b[1;32m----> 1\u001b[1;33m \u001b[0mmonomer\u001b[0m \u001b[1;33m=\u001b[0m \u001b[1;34m''\u001b[0m\u001b[1;33m.\u001b[0m\u001b[0mjoin\u001b[0m\u001b[1;33m(\u001b[0m\u001b[1;33m[\u001b[0m\u001b[0mchoice\u001b[0m\u001b[1;33m(\u001b[0m\u001b[0malphabet\u001b[0m\u001b[1;33m)\u001b[0m \u001b[1;32mfor\u001b[0m \u001b[0mindex\u001b[0m \u001b[1;32min\u001b[0m \u001b[0mrange\u001b[0m\u001b[1;33m(\u001b[0m\u001b[0mfrequency\u001b[0m\u001b[1;33m)\u001b[0m\u001b[1;33m]\u001b[0m\u001b[1;33m)\u001b[0m\u001b[1;33m\u001b[0m\u001b[0m\n\u001b[0m\u001b[0;32m      2\u001b[0m \u001b[0mmonomer\u001b[0m\u001b[1;33m\u001b[0m\u001b[0m\n",
        "\u001b[1;31mNameError\u001b[0m: name 'frequency' is not defined"
       ]
      }
     ],
     "prompt_number": 7
    },
    {
     "cell_type": "code",
     "collapsed": false,
     "input": [
      "copies = ceil(bpPerFrequency / frequency)\n",
      "repeat = monomer * copies\n",
      "repeat"
     ],
     "language": "python",
     "metadata": {},
     "outputs": []
    },
    {
     "cell_type": "code",
     "collapsed": false,
     "input": [
      "'ACGAT' * ceil(3.2)"
     ],
     "language": "python",
     "metadata": {},
     "outputs": []
    },
    {
     "cell_type": "code",
     "collapsed": false,
     "input": [
      "def debugSequence(maxFrequency, sectionLength, startFrequency=1):\n",
      "    seq = ''\n",
      "    for frequency in range(startFrequency, maxFrequency+1):\n",
      "        monomer = ''.join([choice(alphabet) for index in range(frequency)])\n",
      "        copies = ceil(sectionLength / frequency)\n",
      "        repeat = monomer * copies\n",
      "        seq += (repeat)\n",
      "    return seq"
     ],
     "language": "python",
     "metadata": {},
     "outputs": []
    },
    {
     "cell_type": "code",
     "collapsed": false,
     "input": [
      "debugSequence(5, 20, 3)"
     ],
     "language": "python",
     "metadata": {},
     "outputs": []
    },
    {
     "cell_type": "code",
     "collapsed": false,
     "input": [
      "raw_bias = \"\"\"TTT F 0.58 22.1( 80995)  TCT S 0.17 10.4( 38027)  TAT Y 0.59 17.5( 63937)  TGT C 0.46  5.2( 19138)\n",
      "TTC F 0.42 16.0( 58774)  TCC S 0.15  9.1( 33430)  TAC Y 0.41 12.2( 44631)  TGC C 0.54  6.1( 22188)\n",
      "TTA L 0.14 14.3( 52382)  TCA S 0.14  8.9( 32715)  TAA * 0.61  2.0(  7356)  TGA * 0.30  1.0(  3623)\n",
      "TTG L 0.13 13.0( 47500)  TCG S 0.14  8.5( 31146)  TAG * 0.09  0.3(   989)  TGG W 1.00 13.9( 50991)\n",
      "\n",
      "CTT L 0.12 11.9( 43449)  CCT P 0.18  7.5( 27340)  CAT H 0.57 12.5( 45879)  CGT R 0.36 20.0( 73197)\n",
      "CTC L 0.10 10.2( 37347)  CCC P 0.13  5.4( 19666)  CAC H 0.43  9.3( 34078)  CGC R 0.36 19.7( 72212)\n",
      "CTA L 0.04  4.2( 15409)  CCA P 0.20  8.6( 31534)  CAA Q 0.34 14.6( 53394)  CGA R 0.07  3.8( 13844)\n",
      "CTG L 0.47 48.4(177210)  CCG P 0.49 20.9( 76644)  CAG Q 0.66 28.4(104171)  CGG R 0.11  5.9( 21552)\n",
      "\n",
      "ATT I 0.49 29.8(109072)  ACT T 0.19 10.3( 37842)  AAT N 0.49 20.6( 75436)  AGT S 0.16  9.9( 36097)\n",
      "ATC I 0.39 23.7( 86796)  ACC T 0.40 22.0( 80547)  AAC N 0.51 21.4( 78443)  AGC S 0.25 15.2( 55551)\n",
      "ATA I 0.11  6.8( 24984)  ACA T 0.17  9.3( 33910)  AAA K 0.74 35.3(129137)  AGA R 0.07  3.6( 13152)\n",
      "ATG M 1.00 26.4( 96695)  ACG T 0.25 13.7( 50269)  AAG K 0.26 12.4( 45459)  AGG R 0.04  2.1(  7607)\n",
      "\n",
      "GTT V 0.28 19.8( 72584)  GCT A 0.18 17.1( 62479)  GAT D 0.63 32.7(119939)  GGT G 0.35 25.5( 93325)\n",
      "GTC V 0.20 14.3( 52439)  GCC A 0.26 24.2( 88721)  GAC D 0.37 19.2( 70394)  GGC G 0.37 27.1( 99390)\n",
      "GTA V 0.17 11.6( 42420)  GCA A 0.23 21.2( 77547)  GAA E 0.68 39.1(143353)  GGA G 0.13  9.5( 34799)\n",
      "GTG V 0.35 24.4( 89265)  GCG A 0.33 30.1(110308)  GAG E 0.32 18.7( 68609)  GGG G 0.15 11.3( 41277)\"\"\""
     ],
     "language": "python",
     "metadata": {},
     "outputs": []
    },
    {
     "cell_type": "code",
     "collapsed": false,
     "input": [
      "biases = [('TTT', 80995),\n",
      "('TCT', 38027),\n",
      "('TAT', 63937),\n",
      "('TGT', 19138),\n",
      "('TTC', 58774),\n",
      "('TCC', 33430),\n",
      "('TAC', 44631),\n",
      "('TGC', 22188),\n",
      "('TTA', 52382),\n",
      "('TCA', 32715),\n",
      "('TAA',  7356),\n",
      "('TGA',  3623),\n",
      "('TTG', 47500),\n",
      "('TCG', 31146),\n",
      "('TAG',   989),\n",
      "('TGG', 50991),\n",
      "('CTT', 43449),\n",
      "('CCT', 27340),\n",
      "('CAT', 45879),\n",
      "('CGT', 73197),\n",
      "('CTC', 37347),\n",
      "('CCC', 19666),\n",
      "('CAC', 34078),\n",
      "('CGC', 72212),\n",
      "('CTA', 15409),\n",
      "('CCA', 31534),\n",
      "('CAA', 53394),\n",
      "('CGA', 13844),\n",
      "('CTG',177210),\n",
      "('CCG', 76644),\n",
      "('CAG',104171),\n",
      "('CGG', 21552),\n",
      "('ATT',109072),\n",
      "('ACT', 37842),\n",
      "('AAT', 75436),\n",
      "('AGT', 36097),\n",
      "('ATC', 86796),\n",
      "('ACC', 80547),\n",
      "('AAC', 78443),\n",
      "('AGC', 55551),\n",
      "('ATA', 24984),\n",
      "('ACA', 33910),\n",
      "('AAA',129137),\n",
      "('AGA', 13152),\n",
      "('ATG', 96695),\n",
      "('ACG', 50269),\n",
      "('AAG', 45459),\n",
      "('AGG',  7607),\n",
      "('GTT', 72584),\n",
      "('GCT', 62479),\n",
      "('GAT',119939),\n",
      "('GGT', 93325),\n",
      "('GTC', 52439),\n",
      "('GCC', 88721),\n",
      "('GAC', 70394),\n",
      "('GGC', 99390),\n",
      "('GTA', 42420),\n",
      "('GCA', 77547),\n",
      "('GAA',143353),\n",
      "('GGA', 34799),\n",
      "('GTG', 89265),\n",
      "('GCG',110308),\n",
      "('GAG', 68609),\n",
      "('GGG', 41277),]"
     ],
     "language": "python",
     "metadata": {},
     "outputs": []
    },
    {
     "cell_type": "code",
     "collapsed": false,
     "input": [
      "def weighted_choice(items, probs, bincount=10000):\n",
      "  '''Puts items in bins in proportion to probs\n",
      "  then uses random.choice() to select items.\n",
      " \n",
      "  Larger bincount for more memory use but\n",
      "  higher accuracy (on avarage).'''\n",
      " \n",
      "  bins = []\n",
      "  for item,prob in zip(items, probs):\n",
      "    bins += [item]*int(bincount*prob)\n",
      "  while True:\n",
      "    yield random.choice(bins)"
     ],
     "language": "python",
     "metadata": {},
     "outputs": []
    },
    {
     "cell_type": "code",
     "collapsed": false,
     "input": [
      "codons, weights = ([entry[0] for entry in biases], [entry[1] for entry in biases])"
     ],
     "language": "python",
     "metadata": {},
     "outputs": []
    },
    {
     "cell_type": "code",
     "collapsed": false,
     "input": [
      "total = sum(weights)"
     ],
     "language": "python",
     "metadata": {},
     "outputs": []
    },
    {
     "cell_type": "code",
     "collapsed": false,
     "input": [
      "probabilities = [w / total for w in weights]\n",
      "probabilities"
     ],
     "language": "python",
     "metadata": {},
     "outputs": []
    },
    {
     "cell_type": "code",
     "collapsed": false,
     "input": [
      "itera = weighted_choice(codons, probabilities)\n",
      "itera * 100\n",
      "# a = [iter.next() for x in range(10)]\n",
      "# a"
     ],
     "language": "python",
     "metadata": {},
     "outputs": []
    },
    {
     "cell_type": "code",
     "collapsed": false,
     "input": [],
     "language": "python",
     "metadata": {},
     "outputs": []
    }
   ],
   "metadata": {}
  }
 ]
}