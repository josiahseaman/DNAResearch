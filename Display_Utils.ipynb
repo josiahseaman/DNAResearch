{
 "metadata": {
  "name": "",
  "signature": "sha256:4e752c586b4f7d7a7d52b9a44c7f3619e17d150fc6869c4965d74cada0163fb6"
 },
 "nbformat": 3,
 "nbformat_minor": 0,
 "worksheets": [
  {
   "cells": [
    {
     "cell_type": "heading",
     "level": 4,
     "metadata": {},
     "source": [
      "These were copied out of Notebook_Experimentation when the were all grown up."
     ]
    },
    {
     "cell_type": "code",
     "collapsed": false,
     "input": [
      "from pylab import *\n",
      "from math import ceil\n",
      "from PIL import Image"
     ],
     "language": "python",
     "metadata": {},
     "outputs": [],
     "prompt_number": 1
    },
    {
     "cell_type": "code",
     "collapsed": false,
     "input": [
      "from IPython.html.widgets import interact, interactive, fixed\n",
      "from IPython.html import widgets\n",
      "from IPython.display import clear_output, display, HTML"
     ],
     "language": "python",
     "metadata": {},
     "outputs": [],
     "prompt_number": 2
    },
    {
     "cell_type": "code",
     "collapsed": false,
     "input": [
      "class Pic():\n",
      "    def __init__(self, data, width=None, height=None, start = None):\n",
      "        self.width = width if width else int(sqrt(len(data))) #TODO: 2D arrays\n",
      "        self.height = height if height else int(ceil(len(data) / width))\n",
      "        self.start = start if start else 1\n",
      "        self.data = data\n",
      "        \n",
      "    def set_width(self, width):\n",
      "        self.width = width\n",
      "        self.height = int(ceil(len(self.data) / width))\n",
      "        #you could clip the data...  self.data = self.data[:width*self.height]\n",
      "        \n",
      "    def show(self):\n",
      "        im = Image.new('L', (self.width, self.height))\n",
      "        im.putdata(self.data[self.start-1:])\n",
      "        imshow(im, cmap=cm.Greys_r, interpolation='nearest')\n",
      "        \n",
      "    def __repr__(self):\n",
      "        self.show()  #this actually get the graph out there\n",
      "        return str((self.width, self.height))\n",
      "    \n",
      "    def update(self, sequence='', width=None, start=None): # for use with interact(update, ...)\n",
      "        if sequence: self.data = sequence\n",
      "        if width: self.set_width(width)\n",
      "        if start: self.start = start  \n",
      "        self.show() #display to screen\n",
      "        \n",
      "    def gui(self):\n",
      "        length = len(self.data)\n",
      "        return interactive(self.update, \n",
      "                           sequence=self.data, \n",
      "                           width=widgets.IntSliderWidget(min=1, max=length//2, value=self.width), \n",
      "                           start=widgets.IntSliderWidget(min=0, max=length,    value=self.start))"
     ],
     "language": "python",
     "metadata": {},
     "outputs": [],
     "prompt_number": 3
    },
    {
     "cell_type": "code",
     "collapsed": false,
     "input": [
      "from collections import defaultdict\n",
      "class NucleotideDisplay(Pic):\n",
      "    color_map = defaultdict(lambda: (125,125,125), A=(0,0,0), G=(0,255,0), C=(255,0,0), T=(0,0,255)) #color RGB\n",
      "    def __init__(self, data):\n",
      "        width = int(sqrt(len(data)))\n",
      "        super().__init__(data, width=width)\n",
      "        \n",
      "    def show(self):\n",
      "        im = Image.new('RGB', (self.width, self.height))\n",
      "        im.putdata(self.nucleotide_to_color(self.data[self.start-1:]))\n",
      "        imshow(im, interpolation='nearest')\n",
      "        \n",
      "    def nucleotide_to_color(self, sequence):\n",
      "        #Pad with extra gray pixels?\n",
      "        return [self.color_map[nucleotide] for nucleotide in sequence]"
     ],
     "language": "python",
     "metadata": {},
     "outputs": [],
     "prompt_number": 4
    },
    {
     "cell_type": "heading",
     "level": 1,
     "metadata": {},
     "source": [
      "Interactive Section"
     ]
    },
    {
     "cell_type": "code",
     "collapsed": false,
     "input": [
      "nd = NucleotideDisplay('AAGCTAGCGCAGACTCAGCACACACACGCTCGATGCACTGCATCCGATCGACGCCTAGCATCGACTCAGCAT')"
     ],
     "language": "python",
     "metadata": {},
     "outputs": [],
     "prompt_number": 5
    },
    {
     "cell_type": "code",
     "collapsed": false,
     "input": [
      "nd.gui()"
     ],
     "language": "python",
     "metadata": {},
     "outputs": [
      {
       "metadata": {},
       "output_type": "display_data",
       "png": "[encoded data removed]",
       "text": [
        "<matplotlib.figure.Figure at 0x680b780>"
       ]
      }
     ],
     "prompt_number": 6
    },
    {
     "cell_type": "code",
     "collapsed": false,
     "input": [
      "[widget for widget in dir(widgets) if widget.endswith('Widget')]"
     ],
     "language": "python",
     "metadata": {},
     "outputs": [
      {
       "metadata": {},
       "output_type": "pyout",
       "prompt_number": 7,
       "text": [
        "['AccordionWidget',\n",
        " 'BoundedFloatTextWidget',\n",
        " 'BoundedIntTextWidget',\n",
        " 'ButtonWidget',\n",
        " 'CheckboxWidget',\n",
        " 'ContainerWidget',\n",
        " 'DOMWidget',\n",
        " 'DropdownWidget',\n",
        " 'FloatProgressWidget',\n",
        " 'FloatSliderWidget',\n",
        " 'FloatTextWidget',\n",
        " 'HTMLWidget',\n",
        " 'ImageWidget',\n",
        " 'IntProgressWidget',\n",
        " 'IntSliderWidget',\n",
        " 'IntTextWidget',\n",
        " 'LatexWidget',\n",
        " 'PopupWidget',\n",
        " 'RadioButtonsWidget',\n",
        " 'SelectWidget',\n",
        " 'TabWidget',\n",
        " 'TextWidget',\n",
        " 'TextareaWidget',\n",
        " 'ToggleButtonWidget',\n",
        " 'ToggleButtonsWidget',\n",
        " 'Widget']"
       ]
      }
     ],
     "prompt_number": 7
    },
    {
     "cell_type": "code",
     "collapsed": false,
     "input": [],
     "language": "python",
     "metadata": {},
     "outputs": [],
     "prompt_number": 7
    },
    {
     "cell_type": "code",
     "collapsed": false,
     "input": [],
     "language": "python",
     "metadata": {},
     "outputs": [],
     "prompt_number": 7
    },
    {
     "cell_type": "code",
     "collapsed": false,
     "input": [],
     "language": "python",
     "metadata": {},
     "outputs": [],
     "prompt_number": 7
    },
    {
     "cell_type": "heading",
     "level": 3,
     "metadata": {},
     "source": [
      "Iso-surfaces"
     ]
    },
    {
     "cell_type": "markdown",
     "metadata": {},
     "source": [
      "Is there anything in Skittle Research we could use iso-surfaces for?\n",
      "* threshholding boundaries between DNA elements\n",
      "   * ...in Nucleotide Display when it's very zoomed out"
     ]
    },
    {
     "cell_type": "heading",
     "level": 5,
     "metadata": {},
     "source": [
      "Use 2D histogram for Oligomer Display and Isochore Heatmap  http://matplotlib.org/api/pyplot_api.html#matplotlib.pyplot.hist2d"
     ]
    }
   ],
   "metadata": {}
  }
 ]
}