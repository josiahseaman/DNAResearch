{
 "metadata": {
  "name": "",
  "signature": "sha256:62c8cb15a995595ec1a98f7ce80f595f9c697b9eae61f6094fed342887e03384"
 },
 "nbformat": 3,
 "nbformat_minor": 0,
 "worksheets": [
  {
   "cells": [
    {
     "cell_type": "heading",
     "level": 4,
     "metadata": {},
     "source": [
      "These were copied out of Notebook_Experimentation when the were all grown up."
     ]
    },
    {
     "cell_type": "code",
     "collapsed": false,
     "input": [
      "from pylab import *\n",
      "from math import ceil\n",
      "from PIL import Image"
     ],
     "language": "python",
     "metadata": {},
     "outputs": [],
     "prompt_number": 16
    },
    {
     "cell_type": "code",
     "collapsed": false,
     "input": [
      "class Pic():\n",
      "    def __init__(self, data, width=None, height=None):\n",
      "        self.width = width if width else int(sqrt(len(data))) #TODO: 2D arrays\n",
      "        self.height = height if height else int(ceil(len(data) / width))\n",
      "        self.data = data\n",
      "        \n",
      "    def set_width(self, width):\n",
      "        self.width = width\n",
      "        self.height = int(ceil(len(self.data) / width))\n",
      "        #you could clip the data...  self.data = self.data[:width*self.height]\n",
      "        \n",
      "    def show(self):\n",
      "        im = Image.new('L', (self.width, self.height))\n",
      "        im.putdata(self.data)\n",
      "        imshow(im, cmap=cm.Greys_r, interpolation='nearest')\n",
      "        \n",
      "    def __repr__(self):\n",
      "        self.show()  #this actually get the graph out there\n",
      "        return str((self.width, self.height))"
     ],
     "language": "python",
     "metadata": {},
     "outputs": [],
     "prompt_number": 25
    },
    {
     "cell_type": "code",
     "collapsed": false,
     "input": [
      "from collections import defaultdict\n",
      "class NucleotideDisplay(Pic):\n",
      "    color_map = defaultdict(lambda: (125,125,125), A=(0,0,0), G=(0,255,0), C=(255,0,0), T=(0,0,255)) #color RGB\n",
      "    def __init__(self, data):\n",
      "        width = int(sqrt(len(data)))\n",
      "        super().__init__(data, width=width)\n",
      "        \n",
      "    def show(self):\n",
      "        im = Image.new('RGB', (self.width, self.height))\n",
      "        im.putdata(self.nucleotide_to_color(self.data))\n",
      "        imshow(im, interpolation='nearest')\n",
      "        \n",
      "    def nucleotide_to_color(self, sequence):\n",
      "        #Pad with extra gray pixels?\n",
      "        return [self.color_map[nucleotide] for nucleotide in sequence]"
     ],
     "language": "python",
     "metadata": {},
     "outputs": [],
     "prompt_number": 26
    },
    {
     "cell_type": "heading",
     "level": 5,
     "metadata": {},
     "source": [
      "Use 2D histogram for Oligomer Display and Isochore Heatmap  http://matplotlib.org/api/pyplot_api.html#matplotlib.pyplot.hist2d"
     ]
    },
    {
     "cell_type": "heading",
     "level": 3,
     "metadata": {},
     "source": [
      "Iso-surfaces"
     ]
    },
    {
     "cell_type": "markdown",
     "metadata": {},
     "source": [
      "Is there anything in Skittle Research we could use iso-surfaces for?\n",
      "* threshholding boundaries between DNA elements\n",
      "   * ...in Nucleotide Display when it's very zoomed out"
     ]
    },
    {
     "cell_type": "code",
     "collapsed": false,
     "input": [],
     "language": "python",
     "metadata": {},
     "outputs": []
    }
   ],
   "metadata": {}
  }
 ]
}