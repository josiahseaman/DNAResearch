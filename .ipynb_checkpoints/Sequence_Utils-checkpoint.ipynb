{
 "metadata": {
  "name": ""
 },
 "nbformat": 3,
 "nbformat_minor": 0,
 "worksheets": [
  {
   "cells": [
    {
     "cell_type": "code",
     "collapsed": false,
     "input": [
      "from pylab import *\n",
      "import random\n",
      "from random import choice"
     ],
     "language": "python",
     "metadata": {},
     "outputs": [],
     "prompt_number": 37
    },
    {
     "cell_type": "code",
     "collapsed": false,
     "input": [
      "alphabet = ['A', 'C', 'G', 'T']\n",
      "monomer = 'ACCGCTAGAAAT'\n",
      "monomer * 10"
     ],
     "language": "python",
     "metadata": {},
     "outputs": [
      {
       "metadata": {},
       "output_type": "pyout",
       "prompt_number": 27,
       "text": [
        "'ACCGCTAGAAATACCGCTAGAAATACCGCTAGAAATACCGCTAGAAATACCGCTAGAAATACCGCTAGAAATACCGCTAGAAATACCGCTAGAAATACCGCTAGAAATACCGCTAGAAAT'"
       ]
      }
     ],
     "prompt_number": 27
    },
    {
     "cell_type": "code",
     "collapsed": false,
     "input": [
      "def debugSequence(maxFrequency, sectionLength, startFrequency=1):\n",
      "    seq = ''\n",
      "    for frequency in range(startFrequency, maxFrequency+1):\n",
      "        monomer = ''.join([choice(alphabet) for index in range(frequency)])\n",
      "        copies = ceil(sectionLength / frequency)\n",
      "        repeat = monomer * copies\n",
      "        seq += (repeat)\n",
      "    return seq"
     ],
     "language": "python",
     "metadata": {},
     "outputs": [],
     "prompt_number": 31
    },
    {
     "cell_type": "code",
     "collapsed": false,
     "input": [
      "debugSequence(5, 20, 3)"
     ],
     "language": "python",
     "metadata": {},
     "outputs": [
      {
       "metadata": {},
       "output_type": "pyout",
       "prompt_number": 32,
       "text": [
        "'AACAACAACAACAACAACAACCGGTCGGTCGGTCGGTCGGTAGCCCAGCCCAGCCCAGCCC'"
       ]
      }
     ],
     "prompt_number": 32
    },
    {
     "cell_type": "code",
     "collapsed": false,
     "input": [
      "biases = [('TTT', 80995),\n",
      "('TCT', 38027),\n",
      "('TAT', 63937),\n",
      "('TGT', 19138),\n",
      "('TTC', 58774),\n",
      "('TCC', 33430),\n",
      "('TAC', 44631),\n",
      "('TGC', 22188),\n",
      "('TTA', 52382),\n",
      "('TCA', 32715),\n",
      "('TAA',  7356),\n",
      "('TGA',  3623),\n",
      "('TTG', 47500),\n",
      "('TCG', 31146),\n",
      "('TAG',   989),\n",
      "('TGG', 50991),\n",
      "('CTT', 43449),\n",
      "('CCT', 27340),\n",
      "('CAT', 45879),\n",
      "('CGT', 73197),\n",
      "('CTC', 37347),\n",
      "('CCC', 19666),\n",
      "('CAC', 34078),\n",
      "('CGC', 72212),\n",
      "('CTA', 15409),\n",
      "('CCA', 31534),\n",
      "('CAA', 53394),\n",
      "('CGA', 13844),\n",
      "('CTG',177210),\n",
      "('CCG', 76644),\n",
      "('CAG',104171),\n",
      "('CGG', 21552),\n",
      "('ATT',109072),\n",
      "('ACT', 37842),\n",
      "('AAT', 75436),\n",
      "('AGT', 36097),\n",
      "('ATC', 86796),\n",
      "('ACC', 80547),\n",
      "('AAC', 78443),\n",
      "('AGC', 55551),\n",
      "('ATA', 24984),\n",
      "('ACA', 33910),\n",
      "('AAA',129137),\n",
      "('AGA', 13152),\n",
      "('ATG', 96695),\n",
      "('ACG', 50269),\n",
      "('AAG', 45459),\n",
      "('AGG',  7607),\n",
      "('GTT', 72584),\n",
      "('GCT', 62479),\n",
      "('GAT',119939),\n",
      "('GGT', 93325),\n",
      "('GTC', 52439),\n",
      "('GCC', 88721),\n",
      "('GAC', 70394),\n",
      "('GGC', 99390),\n",
      "('GTA', 42420),\n",
      "('GCA', 77547),\n",
      "('GAA',143353),\n",
      "('GGA', 34799),\n",
      "('GTG', 89265),\n",
      "('GCG',110308),\n",
      "('GAG', 68609),\n",
      "('GGG', 41277),]"
     ],
     "language": "python",
     "metadata": {},
     "outputs": [],
     "prompt_number": 2
    },
    {
     "cell_type": "code",
     "collapsed": false,
     "input": [
      "import random\n",
      "def weighted_choice(items, probs, bincount=10000):\n",
      "  '''Puts items in bins in proportion to probs\n",
      "  then uses random.choice() to select items.\n",
      " \n",
      "  Larger bincount for more memory use but\n",
      "  higher accuracy (on avarage).'''\n",
      " \n",
      "  bins = []\n",
      "  for item,prob in zip(items, probs):\n",
      "    bins += [item]*int(bincount*prob)\n",
      "  while True:\n",
      "    yield random.choice(bins)"
     ],
     "language": "python",
     "metadata": {},
     "outputs": [],
     "prompt_number": 3
    },
    {
     "cell_type": "code",
     "collapsed": false,
     "input": [
      "codons, weights = ([entry[0] for entry in biases], [entry[1] for entry in biases])\n",
      "total = sum(weights)\n",
      "probabilities = [w / total for w in weights]\n",
      "probabilities"
     ],
     "language": "python",
     "metadata": {},
     "outputs": [
      {
       "metadata": {},
       "output_type": "pyout",
       "prompt_number": 6,
       "text": [
        "[0.022114108197632605,\n",
        " 0.010382532161631892,\n",
        " 0.017456753328378739,\n",
        " 0.005225258382446976,\n",
        " 0.01604709667519796,\n",
        " 0.0091274107913680846,\n",
        " 0.012185625816020012,\n",
        " 0.0060580015147734092,\n",
        " 0.014301885494269908,\n",
        " 0.0089321939587079548,\n",
        " 0.0020084126168502434,\n",
        " 0.00098918962898972697,\n",
        " 0.012968950421477237,\n",
        " 0.0085038090489964208,\n",
        " 0.00027002719930191552,\n",
        " 0.013922100019822017,\n",
        " 0.01186290372342662,\n",
        " 0.007464654832067109,\n",
        " 0.012526367923935878,\n",
        " 0.019985016084228827,\n",
        " 0.010196871397703377,\n",
        " 0.0053694185050267651,\n",
        " 0.009304334578170554,\n",
        " 0.019716081007067669,\n",
        " 0.0042071275167272154,\n",
        " 0.0086097448966497517,\n",
        " 0.01457819239588117,\n",
        " 0.0037798347291564394,\n",
        " 0.048383741140841707,\n",
        " 0.02092615233902529,\n",
        " 0.028441863881172744,\n",
        " 0.005884354094393209,\n",
        " 0.029779986534134006,\n",
        " 0.010332021512621928,\n",
        " 0.020596331452516988,\n",
        " 0.0098555832287171331,\n",
        " 0.023697958332263964,\n",
        " 0.021991790517867937,\n",
        " 0.021417334271830294,\n",
        " 0.015167119260283832,\n",
        " 0.0068213948911618376,\n",
        " 0.009258465448258802,\n",
        " 0.035258344222701181,\n",
        " 0.0035908975988056552,\n",
        " 0.02640068760009982,\n",
        " 0.013724971973415562,\n",
        " 0.012411695099156499,\n",
        " 0.0020769432811826808,\n",
        " 0.019817648366157976,\n",
        " 0.017058674808073184,\n",
        " 0.03274700936003281,\n",
        " 0.025480574696512909,\n",
        " 0.014317448234775682,\n",
        " 0.024223542112502779,\n",
        " 0.019219711494094075,\n",
        " 0.02713650489243416,\n",
        " 0.011581955302717144,\n",
        " 0.021172698912300954,\n",
        " 0.039139746310947923,\n",
        " 0.0095011895940418176,\n",
        " 0.024372070723645591,\n",
        " 0.0301174522756276,\n",
        " 0.018732351988781721,\n",
        " 0.011269881400996124]"
       ]
      }
     ],
     "prompt_number": 6
    },
    {
     "cell_type": "code",
     "collapsed": false,
     "input": [
      "itera = weighted_choice(codons, probabilities)\n",
      "for dummy in range(10):\n",
      "    print(itera.__next__())"
     ],
     "language": "python",
     "metadata": {},
     "outputs": [
      {
       "output_type": "stream",
       "stream": "stdout",
       "text": [
        "AAC\n",
        "GTG\n",
        "AGC\n",
        "AGT\n",
        "TAT\n",
        "GGA\n",
        "GCC\n",
        "GCA\n",
        "CCG\n",
        "GAG\n"
       ]
      }
     ],
     "prompt_number": 8
    },
    {
     "cell_type": "code",
     "collapsed": false,
     "input": [
      "generator = weighted_choice(codons, probabilities)"
     ],
     "language": "python",
     "metadata": {},
     "outputs": [],
     "prompt_number": 13
    },
    {
     "cell_type": "code",
     "collapsed": false,
     "input": [
      "weighted_sequence = ''.join(generator.__next__() for x in range(1000))\n",
      "weighted_sequence"
     ],
     "language": "python",
     "metadata": {},
     "outputs": [
      {
       "metadata": {},
       "output_type": "pyout",
       "prompt_number": 15,
       "text": [
        "'TCTCGTGAACCGTTCTTTCCCGCGGACGTGATGGATGTGGGTGCCTTTATTTGCGACGATATGGTCCGTAAATTAGGTCTCGTTGTTTGTACCCTCTCACTTGGCCGCTTCAACTTTTTTCCGATAATGTCTAATGCACCGACGGAATTATTGTACAGAGTAGCAAGCTCAGGTTGCACGGCAGACCTTGCCGCGTCGGGTCTGCGCACCACCCAAATCTGGGCGCGTCTGGGCCTCGCTGCTACACTGGTTAACCATGCTTCAGACTCTGTGACGATGAAATATCCAAACGACGTTGAATAAAAACGACGGGGAGCGGCGGTGATTTTTATCAATCGCGGTGAAGCAGTTATGCTCGACATCTATTAACAACAGGAGAAAGGCGCCACCGCTCCGGTGTATTATACACTGGGCCGTTTGACCGTCTCATCGACGGGCAACATGACCAAACCGCACATGCATTTCTCGGGCCGAATCGCCCGCGCCTACTGGAAAGCCGGCTCTGGCGATTATGCCGATTTTGAAAGTTTTCTTTCATCCAAAGCGTATATTATTCAGTTTCAAATATCGACCTTGCTGAAGAAAATCAAAGTGATCTTTTTATTTAAAGGCAATGATGGCGATGTACTTAATCGTGCGATCGCTTTGCGGCAGGGCCCCCGTTGGAATAGATTTGATATGCAGGAGCTGTATCCGATCTGGCATATTCTGTCCAATTAACAGCGCAATATCAACGCTGCGCTGTCTCTGCTGGTCGGCGAACACGGACTGATTCAGTCTCCTTTGGCAGGTTTCGTACAAGGTACCACGCTGAGCGCCCTGGGCCAACGGGACTTTGCACTGCGTAAGGACGCAGTGGAAGTGGGCTCCCTGAACCCTGAAGCCGGTGAAGACAAACGTACGACCATCATCTTTACCTATGTACTGCAGCAGCAAGGTTACAAATCCGGTAAATGTTGCGGCGAGGATAAATATGACGTTATTCTGAAAGAAGGGATTATCTACTATACCGTAGTTCTGATCATCCGGGGCTTCAAAGATTCAGACAAGGACGAAGATGACGGACTTAAACATGCGCTTGAAGGATTCGAAGGCGAACGTGGCGCTGCTCTGTCGACTGTAGCATCCGCGTCCGCATGGAGGAGTGGTCAACATAACGGCACCACCCCTTCGTCAAAGGTGGCGCAAGAACTCCGCCAGAAACGCTGCAATTCCAATACAAACATCACCTGCCCACACGTAAACCTTGAACTTAACAAGATATATCGGCTCTTCCCGCTCCAAAACTAAAAGATACCGGACGTGATCGCGATCAGAGGCAAATACTTGACTCATAAGCTGTCAACGGTTGATTTACTGGGTTTTTCTCCGCCAACCTGTCTGCGCTTGCATGATTATGAAGCCGTGTCAGATCCGATGAAAGTGGCGAATTTCCATAACCAGATGGGTTTCTTGGTAGGCGATGCCATCTTCGTTCAGGAACTCATCAAACAGACGGTCGCGCTGATCATTAACAAAGTAAAAAACCCTGGTGGCCTGAAACAGCGAGCCTCAGAAAAACCGAACTCTCAGCTAGTTTGAGGTGGGTCTAATCATGAGCCAGCACTGCGCGACCGTGGGTCTCGTATTCTGGGTGAGCGCGTGCGTGACGATATTCTGTATCTTGTTAACATGGGTTTTAAACATTCGTTCTTGGCTGACCGTGTCATCATGATCAAGATTGAAGAAGAGCTGCATTTTCATACCCAGAGCTACGAGGTCACCTCGCTCGGACAGGGGGTCAGTAATTACCTGGTCACAGCCGATGCGAAAGCCCCAAAACGTCGCCAACTGGCATATCATCTTGGTACTGGGTTCTCATCATTCTACGCTGGGGCGGATGATCAGGCGTCGCGCGTGGAAGTCAAACAGATGCAACGGATCCTGATTGCAGCCGCCCTGCCGGGCCTCCGAAAGAAATTGCGCCTGGATGCACACAATGAATTTATTGTCCCAATCATGACCGAGTTCGACCAGACCGGCCCCTTAACCTTAGGCTACGCATCAGAAAAACGCGCGCTCGATAACATCATGGTGAGTCAGGATTCTGTGCTGGGGAATCTCTTTATGAAATTTTTAGGTGTGCTGGTGGTCGGTATCAGCCGGACAGCGATAGCGGACCCAGATAAGTATATGGCTATTCTGCTGGGTGCGGTTTTCGACATGCTGGCGATGAAAATCATTGAAGTCTTAGATGTTACGTCCAACCGCAACTATTTGACCAATCGCCGTACGACGGAAATCGCAGCTGTGGCAGAAACCTGTGAGGACGGAGCGTTTGTGATGCTGCTGACCACGTGGCTGGGCAAGAAGTCGGATTCCCTGAAGTTCCCTAACTTAGTGATTGTCTATTATATAGTTATGGTCGGCGGCCCGTGCACCGGAGAGCAGCAGAAACGTGCTACAGCAGCCATGAGTAGCGAAATTGCGCTCCAGCCGTATTTCCGCTTCCGCCGGATTGAGCACACTGTCCGCGGCCGCGTCTTTTGACTGGAAAAAAGTTTCGGCGAAGACGCCGGCGATAATCTGGTCTCCAACAAAACCAAACGTCGCGGTAAAGGGCCGCAGTTTAAATATGTGGAACTGGCAGAACTGACCTTAATCAAGCTGTCGATTTGAGGCGGTGTAGCTAACATGGGAGGTAATGCACGTCATGGAATGAAAGGCATTCTGGGTCCGCTGCGCGTTGCCTCTTTAGCTTATCAGGCGAAAGGTGTCATCGGTTTATCTATGTTAAAAAACTGGGCTCCGGCCTAACAAAAAAATCTGCTGTCAGTTGCTGTACTGGTCCCGCTGAGCGCGAGCACAGGGAGCGCCCTGGAAATGGTGCGCGGTCTGAAAGAAGGCAACGCAGTCTTGGTGGCGAAGATGGGGATCGCCAAAGGAGCGACAGGTCGCTGGGCGGCTGTGGCAGATGGTAACGTCGCACCTCCGCTTCGCGAGCAATTAAACTTTCAGGCT'"
       ]
      }
     ],
     "prompt_number": 15
    },
    {
     "cell_type": "code",
     "collapsed": false,
     "input": [
      "debugSequence(5, 200, 3)"
     ],
     "language": "python",
     "metadata": {},
     "outputs": [
      {
       "metadata": {},
       "output_type": "pyout",
       "prompt_number": 34,
       "text": [
        "'CTACTACTACTACTACTACTACTACTACTACTACTACTACTACTACTACTACTACTACTACTACTACTACTACTACTACTACTACTACTACTACTACTACTACTACTACTACTACTACTACTACTACTACTACTACTACTACTACTACTACTACTACTACTACTACTACTACTACTACTACTACTACTACTACTACTACTAGTTAGTTAGTTAGTTAGTTAGTTAGTTAGTTAGTTAGTTAGTTAGTTAGTTAGTTAGTTAGTTAGTTAGTTAGTTAGTTAGTTAGTTAGTTAGTTAGTTAGTTAGTTAGTTAGTTAGTTAGTTAGTTAGTTAGTTAGTTAGTTAGTTAGTTAGTTAGTTAGTTAGTTAGTTAGTTAGTTAGTTAGTTAGTTAGTTAGTTACTTGCCTTGCCTTGCCTTGCCTTGCCTTGCCTTGCCTTGCCTTGCCTTGCCTTGCCTTGCCTTGCCTTGCCTTGCCTTGCCTTGCCTTGCCTTGCCTTGCCTTGCCTTGCCTTGCCTTGCCTTGCCTTGCCTTGCCTTGCCTTGCCTTGCCTTGCCTTGCCTTGCCTTGCCTTGCCTTGCCTTGCCTTGCCTTGCCTTGC'"
       ]
      }
     ],
     "prompt_number": 34
    },
    {
     "cell_type": "code",
     "collapsed": false,
     "input": [],
     "language": "python",
     "metadata": {},
     "outputs": []
    }
   ],
   "metadata": {}
  }
 ]
}