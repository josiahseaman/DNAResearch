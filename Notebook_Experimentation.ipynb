{
 "metadata": {
  "name": ""
 },
 "nbformat": 3,
 "nbformat_minor": 0,
 "worksheets": [
  {
   "cells": [
    {
     "cell_type": "markdown",
     "metadata": {},
     "source": [
      "Ipython Notebook2.0 supports interactive widgets and javascript.  Consider doing: https://groups.google.com/a/continuum.io/forum/#!topic/anaconda/VxxwGoET1CE"
     ]
    },
    {
     "cell_type": "code",
     "collapsed": false,
     "input": [
      "%pylab inline"
     ],
     "language": "python",
     "metadata": {},
     "outputs": [
      {
       "output_type": "stream",
       "stream": "stdout",
       "text": [
        "Populating the interactive namespace from numpy and matplotlib\n"
       ]
      }
     ],
     "prompt_number": 18
    },
    {
     "cell_type": "code",
     "collapsed": false,
     "input": [
      "from PIL import Image\n",
      "im = Image.new('L', (4,3))\n",
      "im.putdata([1,2,3,5,4,6,7,])\n",
      "imshow(im, cmap=cm.Greys_r, interpolation='nearest')"
     ],
     "language": "python",
     "metadata": {},
     "outputs": [
      {
       "metadata": {},
       "output_type": "pyout",
       "prompt_number": 59,
       "text": [
        "<matplotlib.image.AxesImage at 0x9c03b38>"
       ]
      },
      {
       "metadata": {},
       "output_type": "display_data",
       "png": "[encoded data removed]",
       "text": [
        "<matplotlib.figure.Figure at 0x90d6668>"
       ]
      }
     ],
     "prompt_number": 59
    },
    {
     "cell_type": "code",
     "collapsed": false,
     "input": [],
     "language": "python",
     "metadata": {},
     "outputs": [
      {
       "output_type": "stream",
       "stream": "stdout",
       "text": [
        "Object `pic` not found.\n"
       ]
      }
     ],
     "prompt_number": 53
    },
    {
     "cell_type": "code",
     "collapsed": false,
     "input": [
      "from io import BytesIO\n",
      "\n",
      "from IPython.core import display\n",
      "from PIL import Image\n",
      "\n",
      "\n",
      "def display_pil_image(im):\n",
      "   \"\"\"Displayhook function for PIL Images, rendered as PNG.\"\"\"\n",
      "\n",
      "   b = BytesIO()\n",
      "   im.save(b, format='png')\n",
      "   data = b.getvalue()\n",
      "\n",
      "   ip_img = display.Image(data=data, format='png', embed=True)\n",
      "   return ip_img._repr_png_()\n",
      "\n",
      "\n",
      "# register display func with PNG formatter:\n",
      "png_formatter = get_ipython().display_formatter.formatters['image/png']\n",
      "dpi = png_formatter.for_type(Image.Image, display_pil_image)"
     ],
     "language": "python",
     "metadata": {},
     "outputs": [],
     "prompt_number": 20
    },
    {
     "cell_type": "code",
     "collapsed": false,
     "input": [
      "from PIL import Image\n",
      "from PIL.ImageDraw import Draw\n",
      "img = Image.new(\"RGBA\", (100, 100))\n",
      "draw = Draw(img)\n",
      "draw.rectangle(((0,0), (100, 100)), fill=(255, 100, 0))\n",
      "# img.save(\"foo.png\")\n",
      "imshow(img)"
     ],
     "language": "python",
     "metadata": {},
     "outputs": [
      {
       "metadata": {},
       "output_type": "pyout",
       "prompt_number": 22,
       "text": [
        "<matplotlib.image.AxesImage at 0x6ad87f0>"
       ]
      },
      {
       "metadata": {},
       "output_type": "display_data",
       "png": "[encoded data removed]",
       "text": [
        "<matplotlib.figure.Figure at 0x69a6ac8>"
       ]
      }
     ],
     "prompt_number": 22
    },
    {
     "cell_type": "code",
     "collapsed": false,
     "input": [],
     "language": "python",
     "metadata": {},
     "outputs": []
    }
   ],
   "metadata": {}
  }
 ]
}